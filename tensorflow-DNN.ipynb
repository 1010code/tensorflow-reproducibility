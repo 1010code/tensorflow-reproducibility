{
  "cells": [
    {
      "cell_type": "markdown",
      "metadata": {
        "id": "ItUWCKlRV5Vc"
      },
      "source": [
        "## 1. 前置設定\n",
        "### 1.1 亂數設定\n",
        "為了實現模型再現性，必須鎖定亂數使得模型每次訓練結果都一樣。"
      ]
    },
    {
      "cell_type": "code",
      "execution_count": null,
      "metadata": {
        "id": "mk67gxO4V5Vg"
      },
      "outputs": [],
      "source": [
        "# 設定亂數種子數值\n",
        "seed_value= 4\n",
        "# 1. 設定 Python 環境變數亂數種子\n",
        "import os\n",
        "os.environ['PYTHONHASHSEED']=str(seed_value)\n",
        "# 2. 設定 Python 內建亂數生成器亂數種子\n",
        "import random\n",
        "random.seed(seed_value)\n",
        "# 3. 設定 Numpy 亂數種子\n",
        "import numpy as np\n",
        "np.random.seed(seed_value)\n",
        "# 4. 設定 TensorFlow 亂數種子\n",
        "import tensorflow as tf\n",
        "tf.random.set_seed(seed_value)"
      ]
    },
    {
      "cell_type": "markdown",
      "metadata": {
        "id": "tSTtBODhd6Cr"
      },
      "source": [
        "## 2. 載入資料集"
      ]
    },
    {
      "cell_type": "code",
      "execution_count": null,
      "metadata": {
        "colab": {
          "base_uri": "https://localhost:8080/"
        },
        "id": "a1SSUd-cd6Ct",
        "outputId": "3e396b69-8657-41f2-d4f3-f9e5883dda04"
      },
      "outputs": [
        {
          "name": "stdout",
          "output_type": "stream",
          "text": [
            "The shape of train_x: (404, 13)\t train_y: (404,)\n",
            "The shape of valid_x: (102, 13)\t valid_y: (102,)\n"
          ]
        }
      ],
      "source": [
        "from sklearn.datasets import load_boston\n",
        "from sklearn.preprocessing import StandardScaler\n",
        "from sklearn.model_selection import train_test_split\n",
        "\n",
        "\n",
        "# 載入 sklearn 房價預測資料集 13個輸入特徵 1個輸出特徵\n",
        "boston_dataset = load_boston()\n",
        "# 輸入特徵共13個\n",
        "X = boston_dataset.data\n",
        "# 輸出(房價)\n",
        "y = boston_dataset.target\n",
        "\n",
        "# 資料正規化\n",
        "scaler = StandardScaler()\n",
        "X = scaler.fit_transform(X)\n",
        "\n",
        "X_train, X_test, y_train, y_test = train_test_split(X, y, test_size=0.2, random_state=44)\n",
        "\n",
        "# 觀察切割後資料的維度與筆數\n",
        "print(f'The shape of train_x: {X_train.shape}\\t train_y: {y_train.shape}')\n",
        "print(f'The shape of valid_x: {X_test.shape}\\t valid_y: {y_test.shape}')"
      ]
    },
    {
      "cell_type": "markdown",
      "metadata": {
        "id": "pnVeb30yd6Ct",
        "tags": []
      },
      "source": [
        "## 3. 搭建 DNN 模型\n"
      ]
    },
    {
      "cell_type": "code",
      "execution_count": null,
      "metadata": {
        "colab": {
          "base_uri": "https://localhost:8080/"
        },
        "id": "KdUPS9P6d6Cu",
        "outputId": "d519b39b-ef98-4099-d885-46b877940417"
      },
      "outputs": [
        {
          "name": "stdout",
          "output_type": "stream",
          "text": [
            "2.3.1\n"
          ]
        }
      ],
      "source": [
        "import tensorflow as tf\n",
        "from tensorflow import keras\n",
        "from tensorflow.keras.layers import Dense, Activation, BatchNormalization\n",
        "from tensorflow.keras import Sequential\n",
        "from tensorflow.keras.models import Model\n",
        "from tensorflow.keras.optimizers import Adam\n",
        "\n",
        "print(tf.__version__)"
      ]
    },
    {
      "cell_type": "code",
      "execution_count": null,
      "metadata": {
        "id": "Ckd1DTyfV5Vk"
      },
      "outputs": [],
      "source": [
        "# 此範例使用 Tensorflow2.0 Sequential API 搭建神經網路。\n",
        "def build_model():\n",
        "    model = Sequential()\n",
        "    model.add(Dense(128, Activation('relu'), input_dim=X.shape[-1]))\n",
        "    model.add(Dense(64, activation='relu'))\n",
        "    model.add(Dense(64, activation='relu'))\n",
        "    model.add(Dense(32, activation='relu'))\n",
        "    model.add(Dense(1))\n",
        "\n",
        "    return model"
      ]
    },
    {
      "cell_type": "code",
      "execution_count": null,
      "metadata": {
        "id": "HtG9Jh1kV5Vl",
        "outputId": "845793e9-d7f4-45c7-bcf9-61be7bf32150"
      },
      "outputs": [
        {
          "name": "stdout",
          "output_type": "stream",
          "text": [
            "Model: \"sequential\"\n",
            "_________________________________________________________________\n",
            "Layer (type)                 Output Shape              Param #   \n",
            "=================================================================\n",
            "dense (Dense)                (None, 128)               1792      \n",
            "_________________________________________________________________\n",
            "dense_1 (Dense)              (None, 64)                8256      \n",
            "_________________________________________________________________\n",
            "dense_2 (Dense)              (None, 64)                4160      \n",
            "_________________________________________________________________\n",
            "dense_3 (Dense)              (None, 32)                2080      \n",
            "_________________________________________________________________\n",
            "dense_4 (Dense)              (None, 1)                 33        \n",
            "=================================================================\n",
            "Total params: 16,321\n",
            "Trainable params: 16,321\n",
            "Non-trainable params: 0\n",
            "_________________________________________________________________\n"
          ]
        }
      ],
      "source": [
        "tf.keras.backend.clear_session() # 清空網路暫存\n",
        "model = build_model()\n",
        "model.summary()"
      ]
    },
    {
      "cell_type": "code",
      "execution_count": null,
      "metadata": {
        "id": "z1uJtQ8PV5Vm",
        "outputId": "2442cf4a-6688-4c15-c328-6950afcc90e6"
      },
      "outputs": [
        {
          "name": "stdout",
          "output_type": "stream",
          "text": [
            "Epoch 1/10\n",
            "23/23 [==============================] - 0s 5ms/step - loss: 525.8920 - val_loss: 396.1129\n",
            "Epoch 2/10\n",
            "23/23 [==============================] - 0s 2ms/step - loss: 203.6993 - val_loss: 86.1573\n",
            "Epoch 3/10\n",
            "23/23 [==============================] - 0s 2ms/step - loss: 68.6531 - val_loss: 28.1450\n",
            "Epoch 4/10\n",
            "23/23 [==============================] - 0s 2ms/step - loss: 30.3872 - val_loss: 22.6032\n",
            "Epoch 5/10\n",
            "23/23 [==============================] - 0s 2ms/step - loss: 24.0079 - val_loss: 16.9995\n",
            "Epoch 6/10\n",
            "23/23 [==============================] - 0s 2ms/step - loss: 19.5215 - val_loss: 14.0999\n",
            "Epoch 7/10\n",
            "23/23 [==============================] - 0s 2ms/step - loss: 17.0294 - val_loss: 14.2812\n",
            "Epoch 8/10\n",
            "23/23 [==============================] - 0s 2ms/step - loss: 16.0312 - val_loss: 14.0549\n",
            "Epoch 9/10\n",
            "23/23 [==============================] - 0s 2ms/step - loss: 14.6971 - val_loss: 12.6586\n",
            "Epoch 10/10\n",
            "23/23 [==============================] - 0s 2ms/step - loss: 13.5009 - val_loss: 12.6738\n"
          ]
        }
      ],
      "source": [
        "# 編譯模型\n",
        "optim = Adam(lr=0.001)\n",
        "model.compile(loss='mse',\n",
        "              optimizer=optim)\n",
        "\n",
        "batch_size=16\n",
        "epochs = 10\n",
        "\n",
        "# 訓練模型\n",
        "history = model.fit(X_train, y_train,\n",
        "                    batch_size=batch_size,\n",
        "                    epochs=epochs,\n",
        "                    verbose=1,\n",
        "                    shuffle=True,\n",
        "                    validation_split=0.1)\n"
      ]
    },
    {
      "cell_type": "code",
      "execution_count": null,
      "metadata": {
        "id": "GT8pta8qV5Vn",
        "outputId": "fbd6dda3-4c26-4b89-c2fb-59a181492272"
      },
      "outputs": [
        {
          "name": "stdout",
          "output_type": "stream",
          "text": [
            "訓練集\n",
            "MSE: 12.43095584219719\n",
            "測試集\n",
            "MSE: 18.034715732773478\n"
          ]
        }
      ],
      "source": [
        "from sklearn.metrics import mean_squared_error\n",
        "\n",
        "print(\"訓練集\")\n",
        "y_pred = model.predict(X_train)\n",
        "print('MSE:', mean_squared_error(y_pred, y_train))\n",
        "print(\"測試集\")\n",
        "y_pred = model.predict(X_test)\n",
        "print('MSE:', mean_squared_error(y_pred, y_test))"
      ]
    }
  ],
  "metadata": {
    "colab": {
      "name": "tensorflow-DNN.ipynb",
      "provenance": []
    },
    "kernelspec": {
      "display_name": "Python 3",
      "language": "python",
      "name": "python3"
    },
    "language_info": {
      "codemirror_mode": {
        "name": "ipython",
        "version": 3
      },
      "file_extension": ".py",
      "mimetype": "text/x-python",
      "name": "python",
      "nbconvert_exporter": "python",
      "pygments_lexer": "ipython3",
      "version": "3.7.6"
    }
  },
  "nbformat": 4,
  "nbformat_minor": 0
}